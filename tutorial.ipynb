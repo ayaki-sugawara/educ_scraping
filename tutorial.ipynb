{
 "cells": [
  {
   "cell_type": "markdown",
   "id": "d4a992a4",
   "metadata": {},
   "source": [
    "# スクレイピング\n",
    "スクレイピングにはざっっくり分けて以下の２つの手法があります\n",
    "1. BeautifulSoupを使う方法\n",
    "2. Seleniumを使う方法\n",
    "\n",
    "1のBeautifulSoupを使う方法については，すでにDataAIの授業で取り扱っており，皆さんできるはずなので今回の教育ではSeleniumを使う方法を学んでいきましょう．\n",
    "\n",
    "上記２つの手法の違いはBeautifulSoupでは静的なサイトでしか使用できないのに対して，Seleniumは先ほどお見せしたようなブラウザの自動操作が可能という点です．これは非常に便利です．\n",
    "\n",
    "BeautifulSoupでは自動操作というものはできないので，具体例で言えば，ログインが必要なページの分析が単体ではできません．\n",
    "\n",
    "その点Seleniumでは自動操作によりメールアドレス，パスワードを入力しログインボタンを押す，というコードを予め書いておけばログインが可能なのです．"
   ]
  },
  {
   "cell_type": "markdown",
   "id": "d69812a7",
   "metadata": {},
   "source": [
    "## Seleniumを使用する\n",
    "Seleniumを使用するにはまずはimportを行いましょう．Seleniumを使用したスクレイピングではwebdriverという実行ファイルが必要です．先ほどは事前に菅原が書いたシェルスクリプトにより自動でダウンロードを行なっていました．\n",
    "\n"
   ]
  },
  {
   "cell_type": "code",
   "execution_count": null,
   "id": "a10593a6",
   "metadata": {},
   "outputs": [],
   "source": []
  }
 ],
 "metadata": {
  "kernelspec": {
   "display_name": "Python 3 (ipykernel)",
   "language": "python",
   "name": "python3"
  },
  "language_info": {
   "codemirror_mode": {
    "name": "ipython",
    "version": 3
   },
   "file_extension": ".py",
   "mimetype": "text/x-python",
   "name": "python",
   "nbconvert_exporter": "python",
   "pygments_lexer": "ipython3",
   "version": "3.9.0"
  }
 },
 "nbformat": 4,
 "nbformat_minor": 5
}
